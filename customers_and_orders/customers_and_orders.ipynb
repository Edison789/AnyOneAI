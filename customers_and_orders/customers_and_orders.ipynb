{
  "cells": [
    {
      "cell_type": "markdown",
      "metadata": {
        "id": "piiX_CRNFYUi"
      },
      "source": [
        "# Technical Challenge ! Custiomers and Orders - The lifeblood of any business!\n",
        "\n",
        "This notebook depends on two data files: customers.scv and orders.csv. These files are hosted in the cloud (or Github), so for simplicity, we are providing you with the code to download and save the two files in a folder called 'sample_data' which lives within this notebook session (not on your local computer nor Google Drive).\n",
        "\n",
        "![sample_data folder in notebook session](https://raw.githubusercontent.com/anyoneai/notebooks/main/customers_and_orders/images/sample_data_folder.png)\n",
        "\n",
        "Please execute the first code snippet before moving to the rest of the exercise as this code will import the data from the files for you to be able to execute the rest of the exercise.\n",
        "\n",
        "Remember as we said in the previous lecture, you have to save this notebook into your Google Drive by going to menu File/Save a Copy In Drive, or clicking in the button \"Copy to Drive\". This way, you will not lose any work you've done and the file will persist with your latest changes in your Google Drive. Also we recommend you to rename your .ipynb in your Google Drive, so you can easily find it in the future."
      ]
    },
    {
      "cell_type": "code",
      "execution_count": 1,
      "metadata": {
        "colab": {
          "base_uri": "https://localhost:8080/"
        },
        "id": "MWpVO242FQHC",
        "outputId": "f7ceeb79-4621-4d2c-da07-9baa8beccf72"
      },
      "outputs": [
        {
          "output_type": "stream",
          "name": "stdout",
          "text": [
            "Customers and orders CSV files have been added './sample_data'\n"
          ]
        }
      ],
      "source": [
        "import requests\n",
        "\n",
        "def import_data_files():\n",
        "  r = requests.get('https://raw.githubusercontent.com/anyoneai/notebooks/main/customers_and_orders/data/customers.csv')\n",
        "  with open('./sample_data/customers.csv', 'wb') as f:\n",
        "    f.write(r.content)\n",
        "\n",
        "  r = requests.get('https://raw.githubusercontent.com/anyoneai/notebooks/main/customers_and_orders/data/orders.csv')\n",
        "  with open('./sample_data/orders.csv', 'wb') as f:\n",
        "    f.write(r.content)\n",
        "\n",
        "import_data_files()\n",
        "print(\"Customers and orders CSV files have been added './sample_data'\")"
      ]
    },
    {
      "cell_type": "markdown",
      "metadata": {
        "id": "JQAduY-RWKyB"
      },
      "source": [
        "# Exercise 1: Processing Customers data (difficulty medium)\n",
        "\n",
        "The sample customer data in 'customers.csv' file has just 5 columns: CustomerId, First Name, Last Name, City and State\n",
        "\n",
        "![Data sample](https://raw.githubusercontent.com/anyoneai/notebooks/main/customers_and_orders/images/customers.png)\n",
        "\n",
        "We strongly recommend that you complete from the [Prep Course: Intro to Python](https://colab.research.google.com/github/anyoneai/notebooks/blob/main/python3_crash_course.ipynb) the following section:\n",
        "- Section 7: File I/O (to understand how to read CSV file)\n",
        "- Section 6: For Loop (to navigate the contents of the CSV file)\n",
        "- Section 5: Tuples, Lists, and Dictionaries (to manipulate the data of the CSV file)\n",
        "\n",
        "With this, we hope you can complete this exercise successfully. Although if you want to solve this with libraries or any other way, you are welcome to do it your way.\n",
        "\n",
        "*Hint:* We advise you to take a look at the data before you start.\n",
        "**if you want to manually take a look at the data before you start, please see the content of the data [here](https://github.com/anyoneai/notebooks/blob/main/customers_and_orders/data/customers.csv).\n",
        "\n",
        "*Hint*: There are many ways to do this exercise you can do your own, although here's some help. You can solve this exercise reading and parsing CSV files, structuring data into dictionaries, and using for loops to navigate the contents\n",
        "\n",
        "*Hint*: Also, keep in mind that data might not be clean and you might have to figure out how to deal with that data from the code, without having to modify the data source.\n",
        "\n",
        "Below are the 5 questions you'll have to answer to pass the evaluation:"
      ]
    },
    {
      "cell_type": "markdown",
      "metadata": {
        "id": "kJq7S8sBfbOW"
      },
      "source": [
        "**Question 1:** How many customers are in the file?\n",
        "(as help, we have added some comments and starter code to help you structure the solution)"
      ]
    },
    {
      "cell_type": "code",
      "execution_count": 17,
      "metadata": {
        "colab": {
          "base_uri": "https://localhost:8080/"
        },
        "id": "oMnUFBFb2RUb",
        "outputId": "f6ccd100-e49e-4710-b616-7e7a069768de"
      },
      "outputs": [
        {
          "output_type": "stream",
          "name": "stdout",
          "text": [
            "Exist  602 registered customers in the data without cleaning\n",
            "Exist  471 registered customers in the data cleaning\n",
            "All done!\n"
          ]
        }
      ],
      "source": [
        "from os.path import exists\n",
        "import csv\n",
        "\n",
        "# check if file can be found and open the file\n",
        "datafile = \"./sample_data/customers.csv\"\n",
        "if not exists(datafile):\n",
        "  raise SystemExit(\"You should run the first code cell and download the dataset files!\")\n",
        "\n",
        "# customers file is in the sample_data folder and can be opened.\n",
        "# Using csv reader is one way of dealing with the file\n",
        "# but it's up to you how you want to proceed\n",
        "row_count = 0\n",
        "ids_unique = set()\n",
        "custerms_clean =  []\n",
        "with open(datafile, 'r') as fl:\n",
        "  csvreader = csv.reader(fl, delimiter=',')\n",
        "  next(csvreader)\n",
        "  for row in csvreader:\n",
        "    id_actual = row[0].strip()\n",
        "    if id_actual not in ids_unique:\n",
        "      ids_unique.add(id_actual)\n",
        "      custerms_clean.append(row)\n",
        "    row_count += 1\n",
        "  print('Exist ',row_count ,'registered customers in the data without cleaning')\n",
        "  print('Exist ',len(custerms_clean) ,'registered customers in the data cleaning')\n",
        "  # loop through the rows and count etc. THE REST IS UP TO YOU!\n",
        "\n",
        "print(\"All done!\")"
      ]
    },
    {
      "cell_type": "markdown",
      "metadata": {
        "id": "uffBnNgz_570"
      },
      "source": [
        "**Question 2:** In how many different states do the customers live in?"
      ]
    },
    {
      "cell_type": "code",
      "execution_count": 16,
      "metadata": {
        "id": "Bi_yid0sMe3-",
        "colab": {
          "base_uri": "https://localhost:8080/"
        },
        "outputId": "3952371c-be76-4a2e-e8e7-94bd77c65360"
      },
      "outputs": [
        {
          "output_type": "stream",
          "name": "stdout",
          "text": [
            "14\n",
            "{'TX', 'OR', 'AZ', 'CA', 'NH', 'ID', 'NM', 'UT', 'FL', 'WA', 'MA', 'IN', 'CO', 'NV'}\n"
          ]
        }
      ],
      "source": [
        "# open file and init vars\n",
        "filename = './sample_data/customers.csv'\n",
        "line_count = 0\n",
        "states_unique = set()\n",
        "with open(filename, 'r') as fl:\n",
        "    csvreader = csv.reader(fl, delimiter=',')\n",
        "    next(csvreader)\n",
        "    for row in csvreader:\n",
        "      state_actual = row[4].strip().upper()\n",
        "      if state_actual not in states_unique:\n",
        "        states_unique.add(state_actual)\n",
        "    print(len(states_unique))\n",
        "    print(states_unique)\n",
        "\n",
        "# evaluate the contents of the file"
      ]
    },
    {
      "cell_type": "markdown",
      "metadata": {
        "id": "DC59SZYiMfNY"
      },
      "source": [
        "**Question 3** What is the state with most customers?"
      ]
    },
    {
      "cell_type": "code",
      "execution_count": 4,
      "metadata": {
        "id": "tfGU3w-OMhA9",
        "colab": {
          "base_uri": "https://localhost:8080/"
        },
        "outputId": "8bb6ebcb-36c1-48cf-ebc7-533786021b04"
      },
      "outputs": [
        {
          "output_type": "stream",
          "name": "stdout",
          "text": [
            "States count:  {'CA': 449, 'AZ': 5, 'NV': 6, 'FL': 2, 'WA': 1, 'NH': 1, 'CO': 2, 'TX': 2, 'NM': 1, 'MA': 1, 'IN': 1}\n",
            "States count:  CA\n"
          ]
        }
      ],
      "source": [
        "from os.path import exists\n",
        "import csv\n",
        "\n",
        "# check if file can be found and open the file\n",
        "datafile = \"./sample_data/customers.csv\"\n",
        "if not exists(datafile):\n",
        "  raise SystemExit(\"You should run the first code cell and download the dataset files!\")\n",
        "\n",
        "ids_unique = set()\n",
        "custerms_clean =  []\n",
        "states_count = {}\n",
        "with open(datafile, 'r') as fl:\n",
        "  csvreader = csv.reader(fl, delimiter=',')\n",
        "  next(csvreader)\n",
        "  # evaluate the contents of the file\n",
        "  for row in csvreader:\n",
        "    id_actual = row[0].strip()\n",
        "    if id_actual not in ids_unique:\n",
        "      ids_unique.add(id_actual)\n",
        "      custerms_clean.append(row)\n",
        "      state = row[4].strip().upper()\n",
        "      if state not in states_count:\n",
        "        states_count[state] = 1\n",
        "      else:\n",
        "        states_count[state] += 1\n",
        "  print('States count: ', states_count)\n",
        "  print('States count: ', max(states_count,key=states_count.get))\n"
      ]
    },
    {
      "cell_type": "markdown",
      "metadata": {
        "id": "7mcM6cUAMhLB"
      },
      "source": [
        "**Question 4** What is the state with the least customers?"
      ]
    },
    {
      "cell_type": "code",
      "execution_count": 6,
      "metadata": {
        "id": "8T0Ka2RqMi3P",
        "colab": {
          "base_uri": "https://localhost:8080/"
        },
        "outputId": "ca5298b2-c5fb-45a5-e4a3-dec315c7060e"
      },
      "outputs": [
        {
          "output_type": "stream",
          "name": "stdout",
          "text": [
            "States count:  {'CA': 449, 'AZ': 5, 'NV': 6, 'FL': 2, 'WA': 1, 'NH': 1, 'CO': 2, 'TX': 2, 'NM': 1, 'MA': 1, 'IN': 1}\n",
            "States count:  WA\n"
          ]
        }
      ],
      "source": [
        "from os.path import exists\n",
        "import csv\n",
        "\n",
        "# check if file can be found and open the file\n",
        "datafile = \"./sample_data/customers.csv\"\n",
        "if not exists(datafile):\n",
        "  raise SystemExit(\"You should run the first code cell and download the dataset files!\")\n",
        "\n",
        "ids_unique = set()\n",
        "custerms_clean =  []\n",
        "states_count = {}\n",
        "with open(datafile, 'r') as fl:\n",
        "  csvreader = csv.reader(fl, delimiter=',')\n",
        "  next(csvreader)\n",
        "  # evaluate the contents of the file\n",
        "  for row in csvreader:\n",
        "    id_actual = row[0].strip()\n",
        "    if id_actual not in ids_unique:\n",
        "      ids_unique.add(id_actual)\n",
        "      custerms_clean.append(row)\n",
        "      state = row[4].strip().upper()\n",
        "      if state not in states_count:\n",
        "        states_count[state] = 1\n",
        "      else:\n",
        "        states_count[state] += 1\n",
        "  print('States count: ', states_count)\n",
        "  print('States count: ', min(states_count,key=states_count.get))"
      ]
    },
    {
      "cell_type": "markdown",
      "metadata": {
        "id": "h6fIy7hXHF6A"
      },
      "source": [
        "**Question 5:** What is the most common last name?"
      ]
    },
    {
      "cell_type": "code",
      "execution_count": 10,
      "metadata": {
        "id": "k8M1DmA75Km7",
        "colab": {
          "base_uri": "https://localhost:8080/"
        },
        "outputId": "68e0b29a-0657-4364-a2ee-c885d13ab626"
      },
      "outputs": [
        {
          "output_type": "stream",
          "name": "stdout",
          "text": [
            "{'PIEDRAHITA': 1, 'ABRAHAM': 2, 'JAUREGUI': 1, 'MOTA-SANCHEZ': 1, 'MCCRORIE': 1, 'RAVELO': 1, 'KLINK': 1, 'SMITH': 6, 'TAN': 1, 'HUYNH': 2, 'GILARTELLI': 1, 'PERSKY': 1, 'MCCARLEY': 1, 'GANTOUS': 1, 'WOLLMAN': 1, 'TUELL': 1, 'COSIO': 1, 'SOMOSOT': 1, 'QUIJADA': 1, 'MARIN': 2, 'PARK': 1, 'LIGHTFOOT': 1, 'MCMURRAY': 1, 'KIRSCHNER': 1, 'ZHANG': 2, 'STINSON': 1, 'GALVAN': 1, 'MEGERDICHIAN': 1, 'ROCHA': 1, 'MUSLEH': 1, 'SLOAN': 1, 'ZAPATA': 1, 'ROELANTS': 1, 'VOJNAR': 1, 'CHO': 2, 'HAROLD': 1, 'REYES': 3, 'THOMPSON': 2, 'SCATES JOHNSON': 1, 'MORRIS': 1, 'CAMPOS': 1, 'HARRIS': 1, 'TZARAX': 1, 'COHN': 1, 'MARTINEZ': 2, 'SULLIVAN': 1, 'CARREON': 1, 'MCMAHON': 2, 'MONTES': 1, 'MOPSIKOFF': 1, 'TUDELA': 1, 'GARCIA': 3, 'COFFEY': 1, 'KIM': 1, 'GONZALEZ': 3, 'JOHNSON': 2, 'BANIK': 1, 'VALEN': 1, 'HATHEWAY': 1, 'NEWHOUSE': 1, 'PADILLA': 1, 'SPILLMAN': 1, 'HILLARD': 1, 'BROVKO': 1, 'GOMEZ': 4, 'ROBERTSON': 1, 'HODGSON': 1, 'AMBULO': 1, 'SHRESTHA': 1, 'WELSH': 1, 'OJEDA': 1, 'HALVERSON': 1, 'PEREZ': 4, 'HESTER': 1, 'GRESSITT': 1, 'WARREN': 1, 'JANNETTE': 1, 'HERNANDEZ': 1, 'COURTIS': 1, 'IRWIN': 1, 'DAVIDSON-DILLON': 1, 'TAVARES': 1, 'GONZALES': 2, 'FREEMAN': 1, 'WICKER': 1, 'KULKA': 1, 'MERCADO': 1, 'SPIZER': 1, 'COOMB': 1, 'JACKSON': 2, 'UDOMA': 1, 'YI': 1, 'GUZMAN': 1, 'CHANG': 1, 'HADLEY': 1, 'DEMOTTE': 1, 'ZAMBRANA': 1, 'MACIAS': 1, 'PILLARELLA': 1, 'SOTO': 2, 'YOUNT': 1, 'LANZI': 1, 'CHIN': 1, 'WILLIAMS': 1, 'ZAM': 1, 'SCHNEIDER': 1, 'FERGUSON': 1, 'VILLELA': 1, 'MUNOZ': 2, 'SHAO': 1, 'PANTE': 1, 'TYCHOLIS': 1, 'HIGHSHOE': 1, 'MOLINA': 1, 'OZEKICI': 1, 'ARROYO': 2, 'ESPINOZA': 1, 'AZIZI': 1, 'CHOI': 1, 'RIOS': 1, 'VONG': 1, 'ASCOLESE': 1, 'TREVARE': 1, 'SCHAFFNER': 1, 'MCDERMOTT': 1, 'NURE': 1, 'PICON': 1, 'HAMILTON': 1, 'MUKORA': 1, 'KHACHADOORIAN': 1, 'PIMENTEL': 1, 'ARGUELLES': 1, 'KRESSH': 1, 'MILLER': 3, 'HALL': 1, 'GUNTHER': 1, 'HEREDIA': 1, 'HUARD': 1, 'KEY': 1, 'MAKNOUNI': 1, 'DRAGT': 1, 'SEVILLE-DOUGLAS': 1, 'CISNEROS': 1, 'GALINDO': 2, 'RIVERA MARMOL': 1, 'OLSON': 1, 'DIVAS': 1, 'CANIZALES': 1, 'LEE': 1, 'DE GUIA': 1, 'WELTSCH': 1, 'RANDALL': 1, 'HARBOR': 1, 'STANDING': 1, 'SANDERFORD': 1, 'HISAOKA': 1, 'ORONA': 1, 'RODRIGUEZ LEMOS': 1, 'JONES': 2, 'MUMFORD': 1, 'HENDRIX': 1, 'ZAMORA': 1, 'RAY': 1, 'WILDEY': 1, 'YAN': 1, 'MCLEAN': 1, 'SANCHEZ': 1, 'TAFOLLA': 2, 'ROJAS': 1, 'SAINBAATAR': 1, 'DEPLAND': 1, 'RODRIGUEZ': 3, 'OROZCO': 1, 'NIMAGA': 1, 'FABBRO': 1, 'ATKISSON': 1, 'VRBKA': 1, 'PULIDO': 1, 'VEGA': 1, 'KOVELMAN': 1, 'PUNO': 1, 'SOLIZ': 1, 'BAGALE': 1, 'SARRAUTE': 1, 'TREJO': 1, 'LOPEZ': 2, 'HARRISON': 1, 'PARKINSON': 1, 'HOONG': 1, 'FRANCO': 1, 'GAYTAN': 1, 'LONDIOL': 1, 'VARGAS': 1, 'MORTELLARO': 1, 'MAYE': 1, 'BRES': 1, 'BRUMMER': 1, 'ORTEGA': 1, 'MATHEWSON': 1, 'MYHRE': 1, 'REYNA': 1, 'QUINTANA': 1, 'DIAZ': 1, 'GARMON': 1, 'VELIS': 1, 'GECHTMAN': 1, 'OH': 1, 'MATHER': 1, 'TABAK': 1, 'EDISON': 1, 'GATZA': 1, 'GUERRA': 1, 'PREVICH': 1, 'DOGGETT': 1, 'GIFFIN': 1, 'LOZANO': 1, 'MENDES': 1, 'FINAN': 1, 'RUIZ': 3, 'TAKARADA': 1, 'TREVINO': 1, 'NICHOLLS': 1, 'RILEY': 1, 'MCNELLIS': 1, 'MUELLER': 1, 'CARVALHO': 1, 'STEVENSON': 1, 'SILVA': 1, 'HORDYK': 1, 'KEMBLE': 1, 'MONTELLANO LUNA': 1, 'MOSOMBITE': 1, 'AZIMI': 1, 'JUAREZ': 1, 'WRIGHT': 1, 'RESNICK': 1, 'HARBISON-MICHEL': 1, 'DRAME': 1, 'GYERMAN': 1, 'GEORGE': 1, 'MONTALVO': 1, 'SANDS': 1, 'GIGLIOTTI': 1, 'BERNABE': 1, 'SCOTT': 1, 'BEGLEY': 1, 'ROCKWELL': 1, 'MONTGOMERY': 1, 'MINNICK': 1, 'HTWE': 1, 'ZILLIOX': 1, 'CIOTTI PARTON': 1, 'SAMPSON': 1, 'CERVANTES': 1, 'SHALLER': 1, 'DIAZGOMEZ': 1, 'RAMIREZ': 3, 'NAZARETYAN': 1, 'LABONTE': 1, 'DOMINGUEZ': 1, 'OQUINN': 1, 'TINDAN': 1, 'GARABET': 1, 'BRADY': 1, 'MUNANA': 1, 'OSORIO': 1, 'GAMINO': 1, 'WESTFALL': 1, 'QUINTERO': 1, 'HSU': 1, 'RINGGOLD': 1, 'SAGGESE': 1, 'HANLEY': 1, 'SAMILIN': 1, 'ABRAMS': 1, 'VITAL': 1, 'COFFIN': 1, 'WOMACK': 1, 'VORACHARD': 1, 'ABUEL': 1, 'XU': 1, 'NEWSOME': 1, 'ALLEN': 1, 'BELLOSO': 1, 'HASLACKER': 1, 'SIERRA': 1, 'ANGELO': 1, 'ABRISHAMCHIAN': 1, 'SHAUGHNESSY': 1, 'XIAO': 1, 'BARRETTO': 1, 'SIMPSON': 2, 'VAN DAM': 1, 'SHIELDS': 1, 'MEDINA': 1, 'NAVARRO': 1, 'CRUZ-BONDE': 1, 'ALVARADO': 2, 'BERINA': 1, 'VANDYKE': 1, 'BURNS': 1, 'BRISENO': 1, 'LAY': 1, 'MACHTOLFF': 1, 'RESENDEZ': 1, 'ZIMBER': 1, 'HANDY': 1, 'COROSU': 1, 'WEISMAN': 1, 'ORTIZ': 3, 'PLUNIER': 1, 'FELIX': 1, 'HAGHIRI': 1, 'POWELL': 1, 'REDBURN': 1, 'ROTH STRONG': 1, 'NOORSHER': 1, 'EMELIANOV': 1, 'SABO': 1, 'KOYABU': 1, 'QURESHI': 1, 'KARTOUNIAN': 1, 'HUNTER': 1, 'SUTTON': 1, 'AMATO MAYES': 1, 'HERRON': 1, 'MATSUMOTO': 1, 'ISHIMARU': 1, 'SANDOVAL': 1, 'CASTRINOS': 1, 'LUU': 1, 'AUGUSTINE': 1, 'YOUNG': 1, 'KARTALIAN': 1, 'CHURCH': 1, 'ESTRADA': 2, 'MARTSOLF': 1, 'MARKEL': 1, 'HYATT': 1, 'TORRES': 1, 'STRASER': 1, 'PAPPENSCHELLER': 1, 'MARQUEZ': 1, 'GHOLSTON': 1, 'FERRARO': 1, 'CASEY': 1, 'MADLAMBAYAN': 1, 'KNIBB': 1, 'DUNNE': 1, 'MORALES': 1, 'VALENZUELA': 1, 'OCHIAI': 1, 'BARAJAS': 1, 'HORAN': 1, 'HAN': 1, 'PELLETIER': 1, 'AGHAKHANI': 1, 'SARTORIO': 1, 'LOOSE': 1, 'UZUN': 1, 'GOLDFARB': 1, 'JONKE': 1, 'ANDERSON': 1, 'HONG': 1, 'BUDA': 1, 'JOHN': 1, 'WOLIN': 1, 'NAJAD': 1, 'YATES': 1, 'RIVERA': 1, 'ARIAS': 1, 'OCONNOR': 1, 'VALADEZ': 1, 'MARSHALL': 1, 'PACIENTE': 1, 'WOODWARD': 1, 'WEMBES': 1, 'VAZQUEZ': 1, 'CARRIER': 1, 'STELYN': 1, 'GABBAYAN': 1, 'LAINFIESTA': 1, 'MCMAINS': 1, 'JIA': 1, 'LEON': 1, 'SEOK': 1, 'ROBERTS': 1, 'LEMAISTRE': 1, 'KENNEDY': 1, 'CONNELL': 1, 'BALCARCEL': 1, 'GREESON': 1, 'PUGLISI': 1, 'YOUSSEF': 1, 'RUDI': 1, 'SPENCER': 1, 'CORCORAN': 1, 'YAMADA': 1, 'KIRILENKO': 1, 'MUGGY': 1, 'VALDEZ': 1, 'MERLE': 1, 'BOUCHAT': 1, 'JIMENEZ': 1, 'HAYDEN': 1, 'SCHOENFELD': 1, 'HERRERA': 1, 'CASTILLO': 1, 'FILLMORE': 1, 'SCHORR': 1, 'VERDUZCO': 1, 'ZAMUDIO': 1, 'BABBITT': 1, 'MUNIZ': 1, 'STEPHENS': 1, 'BOROUGH': 1, 'FERRER': 1, 'CRUZ': 1, 'MONTECLARO': 1, 'HALL REIF': 1, 'MIALOTO JR.': 1, 'HUGHES': 1, 'OKONMA': 1}\n",
            "Most common LAST NAME: SMITH\n"
          ]
        }
      ],
      "source": [
        "from os.path import exists\n",
        "import csv\n",
        "\n",
        "# check if file can be found and open the file\n",
        "datafile = \"./sample_data/customers.csv\"\n",
        "if not exists(datafile):\n",
        "  raise SystemExit(\"You should run the first code cell and download the dataset files!\")\n",
        "\n",
        "ids_unique = set()\n",
        "custerms_clean =  []\n",
        "lastName_count = {}\n",
        "with open(datafile, 'r') as fl:\n",
        "  csvreader = csv.reader(fl, delimiter=',')\n",
        "  next(csvreader)\n",
        "  # evaluate the contents of the file\n",
        "  for row in csvreader:\n",
        "    id_actual = row[0].strip()\n",
        "    if id_actual not in ids_unique:\n",
        "      ids_unique.add(id_actual)\n",
        "      custerms_clean.append(row)\n",
        "      state = row[2].strip().upper()\n",
        "      if state not in lastName_count:\n",
        "        lastName_count[state] = 1\n",
        "      else:\n",
        "        lastName_count[state] += 1\n",
        "  print(lastName_count)\n",
        "  print('Most common LAST NAME:',max(lastName_count,key=lastName_count.get))\n"
      ]
    },
    {
      "cell_type": "markdown",
      "metadata": {
        "id": "YPRma1t9NoFk"
      },
      "source": [
        "# Exercise 2: Processing Orders data (difficulty high)\n",
        "\n",
        "The second sample files contains orders placed by customers from the first file. Be careful, this file has many rows and you most likely should not print the contents of the whole file.\n",
        "\n",
        "The file contains the following columns: CustomerID, OrderID, Date, OrderTotal, ProductName, Price\n",
        "\n",
        "![Data sample](https://raw.githubusercontent.com/anyoneai/notebooks/main/customers_and_orders/images/orders.png)\n",
        "\n",
        "*Hint:* We advise you to take a look at the data before you start.\n",
        "**if you want to manually take a look at the data before you start, please see the content of the data [here](https://raw.githubusercontent.com/anyoneai/notebooks/main/customers_and_orders/data/orders.csv).\n",
        "\n",
        "*Hint*: There are many ways to do this exercise you can do your own, although here's some help. You can solve this exercise reading and parsing CSV files, structuring data into dictionaries, and using for loops to navigate the contents\n",
        "\n",
        "*Hint*: Also, the data is not clean and you will have to figure out how to deal with that data from the code, without having to modify the data source.\n",
        "\n",
        "\n",
        "\n",
        "**Question #1:** How many unique orders are in the orders.csv file?\n",
        "\n",
        "**Question #2:** What is the average number of items per order (rounded to two decimal places)?\n",
        "\n",
        "**Question #3:** What is the highest number of items per order?\n",
        "\n",
        "**Question #4:** What is the number of orders placed in October 2021?\n",
        "\n",
        "**Question #5:** Which customer spent the most amount of money in 2021?\n",
        "\n",
        "**Question #6:** Historically, what is the best month for sales?\n",
        "\n",
        "Once you get your answers, remember to go back to the course and introduce them in the multiple choice quiz"
      ]
    },
    {
      "cell_type": "code",
      "execution_count": 26,
      "metadata": {
        "id": "8ipJTrfs5QVM",
        "colab": {
          "base_uri": "https://localhost:8080/"
        },
        "outputId": "88145e90-b1af-49f5-bd8b-d92d97976418"
      },
      "outputs": [
        {
          "output_type": "stream",
          "name": "stdout",
          "text": [
            "QUESTION 1\n",
            "Exist 16672 unique orders\n",
            "QUESTION 2\n",
            "The average number of items per order is 1.76\n",
            "QUESTION 3\n",
            "Order: 5802666 with 35 products\n"
          ]
        }
      ],
      "source": [
        "from os.path import exists\n",
        "import csv\n",
        "\n",
        "# check if file can be found and open the file\n",
        "datafile = \"./sample_data/orders.csv\"\n",
        "if not exists(datafile):\n",
        "  raise SystemExit(\"You should run the first code cell and download the dataset files!\")\n",
        "\n",
        "# customers file is in the sample_data folder and can be opened.\n",
        "# Using csv reader is one way of dealing with the file\n",
        "# but it's up to you how you want to proceed\n",
        "row_count = 0\n",
        "count_product =0\n",
        "product_dictionary = {}\n",
        "ordersId_unique = set()\n",
        "orders_clean =  []\n",
        "with open(datafile, 'r') as fl:\n",
        "  csvreader = csv.reader(fl, delimiter=',')\n",
        "  next(csvreader)\n",
        "  for row in csvreader:\n",
        "    ordersId_actual = row[1].strip()\n",
        "    if ordersId_actual in product_dictionary:\n",
        "      product_dictionary[ordersId_actual] += 1\n",
        "    else:\n",
        "      product_dictionary[ordersId_actual] = 1\n",
        "    count_product = sum(product_dictionary.values())\n",
        "\n",
        "    if ordersId_actual not in ordersId_unique:\n",
        "      ordersId_unique.add(ordersId_actual)\n",
        "      orders_clean.append(row)\n",
        "    row_count += 1\n",
        "\n",
        "\n",
        "    avarage_producto = count_product/len(ordersId_unique)\n",
        "    max_product_by_orderId = max(product_dictionary,key=product_dictionary.get)\n",
        "\n",
        "  print('QUESTION 1')\n",
        "  print('Exist',len(ordersId_unique) ,'unique orders')\n",
        "  #print('Exist',product_dictionary ,'unique orders')\n",
        "  print('QUESTION 2')\n",
        "  print('The average number of items per order is',round(avarage_producto,2))\n",
        "  print('QUESTION 3')\n",
        "  print('Order:',max_product_by_orderId,'with',product_dictionary[max_product_by_orderId],'products')"
      ]
    },
    {
      "cell_type": "markdown",
      "metadata": {
        "id": "ie0JW4FAk6Os"
      },
      "source": [
        "# Finished!\n",
        "\n",
        "Hope this was not too difficult and slicing and dicing the datasets was some fun. Now head on back to the course and provide the answers to the questions from this exercise."
      ]
    }
  ],
  "metadata": {
    "colab": {
      "name": "customers_and_orders.ipynb",
      "provenance": []
    },
    "kernelspec": {
      "display_name": "Python 3 (ipykernel)",
      "language": "python",
      "name": "python3"
    },
    "language_info": {
      "codemirror_mode": {
        "name": "ipython",
        "version": 3
      },
      "file_extension": ".py",
      "mimetype": "text/x-python",
      "name": "python",
      "nbconvert_exporter": "python",
      "pygments_lexer": "ipython3",
      "version": "3.9.9"
    }
  },
  "nbformat": 4,
  "nbformat_minor": 0
}